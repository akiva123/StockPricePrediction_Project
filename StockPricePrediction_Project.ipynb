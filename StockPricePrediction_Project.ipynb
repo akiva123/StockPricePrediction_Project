{
 "cells": [
  {
   "cell_type": "code",
   "execution_count": 1,
   "id": "4c8eadcf",
   "metadata": {},
   "outputs": [],
   "source": [
    "import numpy as np\n",
    "import pandas as pd\n",
    "import matplotlib.pyplot as plt\n",
    "import yfinance as yf\n",
    "import statsmodels.api as sm\n",
    "from pmdarima.arima import auto_arima"
   ]
  },
  {
   "cell_type": "markdown",
   "id": "edd05353",
   "metadata": {},
   "source": [
    "In this project, I will use statistical models to predict the closing price of Apple stock."
   ]
  },
  {
   "cell_type": "code",
   "execution_count": 2,
   "id": "5acd477b",
   "metadata": {},
   "outputs": [
    {
     "name": "stdout",
     "output_type": "stream",
     "text": [
      "[*********************100%***********************]  1 of 1 completed\n"
     ]
    }
   ],
   "source": [
    "Df=yf.download(\"AAPL\", start=\"2020-01-01\", end=\"2022-03-25\")"
   ]
  },
  {
   "cell_type": "markdown",
   "id": "e865a90b",
   "metadata": {},
   "source": [
    "# Linear Regression"
   ]
  },
  {
   "cell_type": "markdown",
   "id": "ea68fbc4",
   "metadata": {},
   "source": [
    "As shown above, a small weighting factor α results in a high degree of smoothing, while a larger value provides a quicker response to recent changes."
   ]
  },
  {
   "cell_type": "code",
   "execution_count": 38,
   "id": "accdd293",
   "metadata": {},
   "outputs": [],
   "source": [
    "Df['EMA']=Df['Close'].ewm(alpha=.1, adjust=False).mean()"
   ]
  },
  {
   "cell_type": "markdown",
   "id": "44c5bdf0",
   "metadata": {},
   "source": [
    "I will attempt to show a linear relationship between the two day Moving Average of Apple stock and its Closing price."
   ]
  },
  {
   "cell_type": "markdown",
   "id": "e0f5b3ce",
   "metadata": {},
   "source": [
    "Make a two day Moving Average variable for the Closing price to be used to predict the Closing price. "
   ]
  },
  {
   "cell_type": "code",
   "execution_count": 345,
   "id": "1677dc77",
   "metadata": {},
   "outputs": [],
   "source": [
    "Df['MA'] = Df['Close'].shift(1).rolling(window=2).mean()\n",
    "Df= Df.dropna()"
   ]
  },
  {
   "cell_type": "markdown",
   "id": "63e265d3",
   "metadata": {},
   "source": [
    "The Closing price is the dependent variable and the Moving Average is the independent variables."
   ]
  },
  {
   "cell_type": "code",
   "execution_count": 39,
   "id": "2e41cc50",
   "metadata": {},
   "outputs": [],
   "source": [
    "X1=Df['EMA']\n",
    "y1=Df['Close']"
   ]
  },
  {
   "cell_type": "markdown",
   "id": "730bc81c",
   "metadata": {},
   "source": [
    "Make a train test split."
   ]
  },
  {
   "cell_type": "code",
   "execution_count": 40,
   "id": "afd8cca5",
   "metadata": {},
   "outputs": [],
   "source": [
    "X_train=X1[:449]\n",
    "X_test=X1[449:]\n",
    "y_train=y1[:449]\n",
    "y_test=y1[449:]"
   ]
  },
  {
   "cell_type": "markdown",
   "id": "b4da9294",
   "metadata": {},
   "source": [
    "Craete a Dataframe for the variables."
   ]
  },
  {
   "cell_type": "code",
   "execution_count": 41,
   "id": "3c63af8e",
   "metadata": {},
   "outputs": [],
   "source": [
    "Df_model1=pd.DataFrame({'Close':X_train,'MA':y_train})"
   ]
  },
  {
   "cell_type": "code",
   "execution_count": 42,
   "id": "df9ef5f0",
   "metadata": {},
   "outputs": [
    {
     "data": {
      "text/html": [
       "<table class=\"simpletable\">\n",
       "<caption>OLS Regression Results</caption>\n",
       "<tr>\n",
       "  <th>Dep. Variable:</th>          <td>Close</td>      <th>  R-squared:         </th> <td>   0.973</td> \n",
       "</tr>\n",
       "<tr>\n",
       "  <th>Model:</th>                   <td>OLS</td>       <th>  Adj. R-squared:    </th> <td>   0.973</td> \n",
       "</tr>\n",
       "<tr>\n",
       "  <th>Method:</th>             <td>Least Squares</td>  <th>  F-statistic:       </th> <td>1.622e+04</td>\n",
       "</tr>\n",
       "<tr>\n",
       "  <th>Date:</th>             <td>Mon, 18 Apr 2022</td> <th>  Prob (F-statistic):</th>  <td>  0.00</td>  \n",
       "</tr>\n",
       "<tr>\n",
       "  <th>Time:</th>                 <td>13:09:27</td>     <th>  Log-Likelihood:    </th> <td> -1292.1</td> \n",
       "</tr>\n",
       "<tr>\n",
       "  <th>No. Observations:</th>      <td>   449</td>      <th>  AIC:               </th> <td>   2588.</td> \n",
       "</tr>\n",
       "<tr>\n",
       "  <th>Df Residuals:</th>          <td>   447</td>      <th>  BIC:               </th> <td>   2596.</td> \n",
       "</tr>\n",
       "<tr>\n",
       "  <th>Df Model:</th>              <td>     1</td>      <th>                     </th>     <td> </td>    \n",
       "</tr>\n",
       "<tr>\n",
       "  <th>Covariance Type:</th>      <td>nonrobust</td>    <th>                     </th>     <td> </td>    \n",
       "</tr>\n",
       "</table>\n",
       "<table class=\"simpletable\">\n",
       "<tr>\n",
       "      <td></td>         <th>coef</th>     <th>std err</th>      <th>t</th>      <th>P>|t|</th>  <th>[0.025</th>    <th>0.975]</th>  \n",
       "</tr>\n",
       "<tr>\n",
       "  <th>Intercept</th> <td>    1.3913</td> <td>    0.888</td> <td>    1.566</td> <td> 0.118</td> <td>   -0.354</td> <td>    3.137</td>\n",
       "</tr>\n",
       "<tr>\n",
       "  <th>MA</th>        <td>    0.9755</td> <td>    0.008</td> <td>  127.338</td> <td> 0.000</td> <td>    0.960</td> <td>    0.991</td>\n",
       "</tr>\n",
       "</table>\n",
       "<table class=\"simpletable\">\n",
       "<tr>\n",
       "  <th>Omnibus:</th>       <td> 0.267</td> <th>  Durbin-Watson:     </th> <td>   0.254</td>\n",
       "</tr>\n",
       "<tr>\n",
       "  <th>Prob(Omnibus):</th> <td> 0.875</td> <th>  Jarque-Bera (JB):  </th> <td>   0.233</td>\n",
       "</tr>\n",
       "<tr>\n",
       "  <th>Skew:</th>          <td> 0.056</td> <th>  Prob(JB):          </th> <td>   0.890</td>\n",
       "</tr>\n",
       "<tr>\n",
       "  <th>Kurtosis:</th>      <td> 3.000</td> <th>  Cond. No.          </th> <td>    506.</td>\n",
       "</tr>\n",
       "</table><br/><br/>Notes:<br/>[1] Standard Errors assume that the covariance matrix of the errors is correctly specified."
      ],
      "text/plain": [
       "<class 'statsmodels.iolib.summary.Summary'>\n",
       "\"\"\"\n",
       "                            OLS Regression Results                            \n",
       "==============================================================================\n",
       "Dep. Variable:                  Close   R-squared:                       0.973\n",
       "Model:                            OLS   Adj. R-squared:                  0.973\n",
       "Method:                 Least Squares   F-statistic:                 1.622e+04\n",
       "Date:                Mon, 18 Apr 2022   Prob (F-statistic):               0.00\n",
       "Time:                        13:09:27   Log-Likelihood:                -1292.1\n",
       "No. Observations:                 449   AIC:                             2588.\n",
       "Df Residuals:                     447   BIC:                             2596.\n",
       "Df Model:                           1                                         \n",
       "Covariance Type:            nonrobust                                         \n",
       "==============================================================================\n",
       "                 coef    std err          t      P>|t|      [0.025      0.975]\n",
       "------------------------------------------------------------------------------\n",
       "Intercept      1.3913      0.888      1.566      0.118      -0.354       3.137\n",
       "MA             0.9755      0.008    127.338      0.000       0.960       0.991\n",
       "==============================================================================\n",
       "Omnibus:                        0.267   Durbin-Watson:                   0.254\n",
       "Prob(Omnibus):                  0.875   Jarque-Bera (JB):                0.233\n",
       "Skew:                           0.056   Prob(JB):                        0.890\n",
       "Kurtosis:                       3.000   Cond. No.                         506.\n",
       "==============================================================================\n",
       "\n",
       "Notes:\n",
       "[1] Standard Errors assume that the covariance matrix of the errors is correctly specified.\n",
       "\"\"\""
      ]
     },
     "execution_count": 42,
     "metadata": {},
     "output_type": "execute_result"
    }
   ],
   "source": [
    "model1=sm.formula.ols('Close~MA', data=Df_model1).fit()\n",
    "model1.summary()"
   ]
  }
  !
  {
   "cell_type": "code",
   "execution_count": 43,
   "id": "e08bc8fa",
   "metadata": {},
   "outputs": [
    {
     "data": {
      "text/plain": [
       "1    160.391239\n",
       "dtype: float64"
      ]
     },
     "execution_count": 43,
     "metadata": {},
     "output_type": "execute_result"
    }
   ],
   "source": [
    "model1.predict(pd.DataFrame({'MA':163},index=[1]))"
   ]
  },
  {
   "cell_type": "code",
   "execution_count": 44,
   "id": "e8a42d56",
   "metadata": {},
   "outputs": [],
   "source": [
    "pred=model1.predict(pd.DataFrame({'MA':X_test}))"
   ]
  },
  {
   "cell_type": "code",
   "execution_count": 45,
   "id": "ed72649c",
   "metadata": {},
   "outputs": [
    {
     "data": {
      "text/plain": [
       "[<matplotlib.lines.Line2D at 0x13bf0a550>]"
      ]
     },
     "execution_count": 45,
     "metadata": {},
     "output_type": "execute_result"
    },
    {
     "data": {
      "image/png": "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\n",
      "text/plain": [
       "<Figure size 432x288 with 1 Axes>"
      ]
     },
     "metadata": {
      "needs_background": "light"
     },
     "output_type": "display_data"
    }
   ],
   "source": [
    "plt.plot(y_test)\n",
    "plt.plot(pred)"
   ]
  },
  {
   "cell_type": "markdown",
   "id": "25578a28",
   "metadata": {},
   "source": [
    "The model R squared is a good score. With a critical value of .05, the Moving Average has statistically significant p-value."
   ]
  },
  {
   "cell_type": "markdown",
   "id": "a954c6d3",
   "metadata": {},
   "source": [
    "Cross Validate the model."
   ]
  },
  {
   "cell_type": "code",
   "execution_count": 46,
   "id": "16d211c2",
   "metadata": {},
   "outputs": [],
   "source": [
    "X_train2=X1[111:]\n",
    "X_test2=X1[:112]\n",
    "y_train2=y1[111:]\n",
    "y_test2=y1[:112]\n",
    "X_train3=X1[55:503]\n",
    "X_test3=pd.concat([X1[:56],X1[503:]])\n",
    "y_train3=y1[55:503]\n",
    "y_test3=pd.concat([y1[:56],y1[503:]])\n",
    "xtrain=[X_train,X_train2,X_train3]\n",
    "ytrain=[y_train,y_train2,y_train3]\n",
    "xtest=[X_test,X_test2,X_test3]\n",
    "ytest=[y_test,y_test2,y_test3]"
   ]
  },
  {
   "cell_type": "code",
   "execution_count": 47,
   "id": "782ff815",
   "metadata": {},
   "outputs": [
    {
     "name": "stdout",
     "output_type": "stream",
     "text": [
      "RMSE:  6.861142276675213\n",
      "RMSE:  4.182131614874321\n",
      "RMSE:  4.855345142165878\n"
     ]
    }
   ],
   "source": [
    "for x1,y1,x2,y2 in zip(xtrain,ytrain,xtest,ytest):\n",
    "    Df_model=pd.DataFrame({'Close':x1,'MA':y1})\n",
    "    model=sm.formula.ols('Close~MA', data=Df_model).fit()\n",
    "    y_hat=model.predict(pd.DataFrame({'MA':x2}))\n",
    "    print('RMSE: ',sm.tools.eval_measures.rmse(y2,y_hat))"
   ]
  },
  {
   "cell_type": "markdown",
   "id": "57dd268f",
   "metadata": {},
   "source": [
    "The Cross Validated RMSEs are all simillar, the model seems good and is ready to be run on the the test data to see how well the model would perform in the market."
   ]
  },
  {
   "cell_type": "code",
   "execution_count": 48,
   "id": "15497e22",
   "metadata": {},
   "outputs": [],
   "source": [
    "opt=Df['Open'].iloc[449:]\n",
    "opt2=Df['Open'].iloc[:112]\n",
    "opt3=pd.concat([Df['Open'].iloc[:56],Df['Open'].iloc[503:]])\n",
    "optl=[opt,opt2,opt3]\n",
    "clt=Df['Close'].iloc[449:]\n",
    "clt2=Df['Close'].iloc[:112]\n",
    "clt3=pd.concat([Df['Close'].iloc[:56],Df['Close'].iloc[503:]])\n",
    "cltl=[clt,clt2,clt3]"
   ]
  },
  {
   "cell_type": "code",
   "execution_count": 49,
   "id": "c1e0e4a5",
   "metadata": {},
   "outputs": [
    {
     "name": "stdout",
     "output_type": "stream",
     "text": [
      "Net Price Change:  0.7800445556640625\n",
      "Net Price Change:  18.820022583007812\n",
      "Net Price Change:  33.207550048828125\n"
     ]
    }
   ],
   "source": [
    "am=0\n",
    "for x1,y1,x2,y2,o,c in zip(xtrain,ytrain,xtest,ytest,optl,cltl):#iterate over all 3 of the train test sets\n",
    "    Df_model=pd.DataFrame({'Close':x1,'MA':y1})#create a dataframe\n",
    "    model=sm.formula.ols('Close~MA', data=Df_model).fit()#create a model\n",
    "    for i,l,k in zip(x2,o,c):#iterate over test set, Open, and Close\n",
    "        if model.predict(pd.DataFrame({'MA':i},index=[0]))[0]>l:#make predictions from the MA and if prediction>Open\n",
    "            am+=(k-l)#take the difference of that day's Close and Open and add it to amount\n",
    "    print('Net Price Change: ',am)"
   ]
  },
  {
   "cell_type": "markdown",
   "id": "2e88cc27",
   "metadata": {},
   "source": [
    "For the three different segments of the test data, the model was profitable all the times that the model was tested.  "
   ]
  },
  {
   "cell_type": "markdown",
   "id": "f6008b19",
   "metadata": {},
   "source": [
    "# Logistic Regression"
   ]
  },
  {
   "cell_type": "markdown",
   "id": "b11bcad3",
   "metadata": {},
   "source": [
    "I will use logistic regression to attempt to predict the Apple stock price movement.  Create a variable of the daily percent change of the Closing price."
   ]
  },
  {
   "cell_type": "code",
   "execution_count": 347,
   "id": "2adbff03",
   "metadata": {},
   "outputs": [
    {
     "name": "stderr",
     "output_type": "stream",
     "text": [
      "<ipython-input-347-f240277087cf>:1: SettingWithCopyWarning: \n",
      "A value is trying to be set on a copy of a slice from a DataFrame.\n",
      "Try using .loc[row_indexer,col_indexer] = value instead\n",
      "\n",
      "See the caveats in the documentation: https://pandas.pydata.org/pandas-docs/stable/user_guide/indexing.html#returning-a-view-versus-a-copy\n",
      "  Df['PC']=Df['Close'].pct_change()*100\n"
     ]
    }
   ],
   "source": [
    "Df['PC']=Df['Close'].pct_change()*100\n",
    "Df=Df.dropna()"
   ]
  },
  {
   "cell_type": "markdown",
   "id": "8276138e",
   "metadata": {},
   "source": [
    "Create a binary variable that represents whether the stock increased or decreased."
   ]
  },
  {
   "cell_type": "code",
   "execution_count": 350,
   "id": "0c8a2c71",
   "metadata": {},
   "outputs": [
    {
     "name": "stderr",
     "output_type": "stream",
     "text": [
      "<ipython-input-350-8ac40261732d>:1: SettingWithCopyWarning: \n",
      "A value is trying to be set on a copy of a slice from a DataFrame.\n",
      "Try using .loc[row_indexer,col_indexer] = value instead\n",
      "\n",
      "See the caveats in the documentation: https://pandas.pydata.org/pandas-docs/stable/user_guide/indexing.html#returning-a-view-versus-a-copy\n",
      "  Df['Direction']=[1 if i>0 else 0 for i in Df['PC']]\n"
     ]
    }
   ],
   "source": [
    "Df['Direction']=[1 if i>0 else 0 for i in Df['PC']]"
   ]
  },
  {
   "cell_type": "markdown",
   "id": "982e7008",
   "metadata": {},
   "source": [
    "The Direction of the stock is the dependent variable and the Moving Average is the independent variable."
   ]
  },
  {
   "cell_type": "code",
   "execution_count": 351,
   "id": "e711cb3a",
   "metadata": {},
   "outputs": [],
   "source": [
    "X2=pd.DataFrame({'MA':Df['MA']})\n",
    "y2=Df['Direction']"
   ]
  },
  {
   "cell_type": "markdown",
   "id": "fb4c2973",
   "metadata": {},
   "source": [
    "Create a train test split."
   ]
  },
  {
   "cell_type": "code",
   "execution_count": 354,
   "id": "f7b928a6",
   "metadata": {},
   "outputs": [],
   "source": [
    "X_trainl=X2[:449]\n",
    "X_testl=X2[449:]\n",
    "y_trainl=y2[:449]\n",
    "y_testl=y2[449:]"
   ]
  },
  {
   "cell_type": "code",
   "execution_count": 356,
   "id": "ea36681c",
   "metadata": {},
   "outputs": [
    {
     "name": "stdout",
     "output_type": "stream",
     "text": [
      "Optimization terminated successfully.\n",
      "         Current function value: 0.691843\n",
      "         Iterations 3\n"
     ]
    },
    {
     "data": {
      "text/html": [
       "<table class=\"simpletable\">\n",
       "<caption>Logit Regression Results</caption>\n",
       "<tr>\n",
       "  <th>Dep. Variable:</th>       <td>Direction</td>    <th>  No. Observations:  </th>   <td>   449</td>  \n",
       "</tr>\n",
       "<tr>\n",
       "  <th>Model:</th>                 <td>Logit</td>      <th>  Df Residuals:      </th>   <td>   448</td>  \n",
       "</tr>\n",
       "<tr>\n",
       "  <th>Method:</th>                 <td>MLE</td>       <th>  Df Model:          </th>   <td>     0</td>  \n",
       "</tr>\n",
       "<tr>\n",
       "  <th>Date:</th>            <td>Fri, 01 Apr 2022</td> <th>  Pseudo R-squ.:     </th> <td>-0.0007310</td>\n",
       "</tr>\n",
       "<tr>\n",
       "  <th>Time:</th>                <td>17:05:40</td>     <th>  Log-Likelihood:    </th>  <td> -310.64</td> \n",
       "</tr>\n",
       "<tr>\n",
       "  <th>converged:</th>             <td>True</td>       <th>  LL-Null:           </th>  <td> -310.41</td> \n",
       "</tr>\n",
       "<tr>\n",
       "  <th>Covariance Type:</th>     <td>nonrobust</td>    <th>  LLR p-value:       </th>   <td>   nan</td>  \n",
       "</tr>\n",
       "</table>\n",
       "<table class=\"simpletable\">\n",
       "<tr>\n",
       "   <td></td>     <th>coef</th>     <th>std err</th>      <th>z</th>      <th>P>|z|</th>  <th>[0.025</th>    <th>0.975]</th>  \n",
       "</tr>\n",
       "<tr>\n",
       "  <th>MA</th> <td>    0.0009</td> <td>    0.001</td> <td>    1.081</td> <td> 0.280</td> <td>   -0.001</td> <td>    0.002</td>\n",
       "</tr>\n",
       "</table>"
      ],
      "text/plain": [
       "<class 'statsmodels.iolib.summary.Summary'>\n",
       "\"\"\"\n",
       "                           Logit Regression Results                           \n",
       "==============================================================================\n",
       "Dep. Variable:              Direction   No. Observations:                  449\n",
       "Model:                          Logit   Df Residuals:                      448\n",
       "Method:                           MLE   Df Model:                            0\n",
       "Date:                Fri, 01 Apr 2022   Pseudo R-squ.:              -0.0007310\n",
       "Time:                        17:05:40   Log-Likelihood:                -310.64\n",
       "converged:                       True   LL-Null:                       -310.41\n",
       "Covariance Type:            nonrobust   LLR p-value:                       nan\n",
       "==============================================================================\n",
       "                 coef    std err          z      P>|z|      [0.025      0.975]\n",
       "------------------------------------------------------------------------------\n",
       "MA             0.0009      0.001      1.081      0.280      -0.001       0.002\n",
       "==============================================================================\n",
       "\"\"\""
      ]
     },
     "execution_count": 356,
     "metadata": {},
     "output_type": "execute_result"
    }
   ],
   "source": [
    "model2 = sm.Logit(y_trainl, X_trainl).fit()\n",
    "model2.summary()"
   ]
  },
  {
   "cell_type": "markdown",
   "id": "7b1ad386",
   "metadata": {},
   "source": [
    "The Moving Average p-value is not statistically significant, I cannot show a relationship between the Moving Average of the stock and its direction.  "
   ]
  },
  {
   "cell_type": "markdown",
   "id": "0f15b5d3",
   "metadata": {},
   "source": [
    "# ARIMA"
   ]
  },
  {
   "cell_type": "markdown",
   "id": "4d5d020d",
   "metadata": {},
   "source": [
    "I will use Time Series analyses to attempt to predict the price of Apple stock."
   ]
  },
  {
   "cell_type": "markdown",
   "id": "910b68dd",
   "metadata": {},
   "source": [
    "The data seems to have a trend."
   ]
  },
  {
   "cell_type": "code",
   "execution_count": 315,
   "id": "692ca2ee",
   "metadata": {},
   "outputs": [
    {
     "data": {
      "text/plain": [
       "Text(0.5, 1.0, 'AAPL closing price')"
      ]
     },
     "execution_count": 315,
     "metadata": {},
     "output_type": "execute_result"
    },
    {
     "data": {
      "image/png": "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\n",
      "text/plain": [
       "<Figure size 720x432 with 1 Axes>"
      ]
     },
     "metadata": {
      "needs_background": "light"
     },
     "output_type": "display_data"
    }
   ],
   "source": [
    "plt.figure(figsize=(10,6))\n",
    "plt.grid(True)\n",
    "plt.xlabel('Dates')\n",
    "plt.ylabel('Close Prices')\n",
    "plt.plot(Df['Close'])\n",
    "plt.title('AAPL closing price')"
   ]
  },
  {
   "cell_type": "markdown",
   "id": "8b91e710",
   "metadata": {},
   "source": [
    "The Dickey Fuller test confirms that the data is not stationary.  The data must be differenced."
   ]
  },
  {
   "cell_type": "code",
   "execution_count": 314,
   "id": "a9291190",
   "metadata": {},
   "outputs": [
    {
     "data": {
      "text/plain": [
       "(-0.8758291756721894, 0.7958279808710259)"
      ]
     },
     "execution_count": 314,
     "metadata": {},
     "output_type": "execute_result"
    }
   ],
   "source": [
    "sm.tsa.stattools.adfuller(Df['Close'])[:2]#Null hypothesis data is non stationary"
   ]
  },
  {
   "cell_type": "markdown",
   "id": "853bfc1c",
   "metadata": {},
   "source": [
    "Create a train test split."
   ]
  },
  {
   "cell_type": "code",
   "execution_count": 331,
   "id": "4ce3aa92",
   "metadata": {},
   "outputs": [],
   "source": [
    "train=Df['Close'][:449]\n",
    "test=Df['Close'][449:]"
   ]
  },
  {
   "cell_type": "markdown",
   "id": "19411f5c",
   "metadata": {},
   "source": [
    "Run simulation to determine the optimal p, d, and q that minimize the AIC."
   ]
  },
  {
   "cell_type": "code",
   "execution_count": 333,
   "id": "4ec8dca7",
   "metadata": {},
   "outputs": [
    {
     "name": "stdout",
     "output_type": "stream",
     "text": [
      "Performing stepwise search to minimize aic\n",
      " ARIMA(0,1,0)(0,0,0)[0] intercept   : AIC=2058.494, Time=0.02 sec\n",
      " ARIMA(1,1,0)(0,0,0)[0] intercept   : AIC=2053.034, Time=0.04 sec\n",
      " ARIMA(0,1,1)(0,0,0)[0] intercept   : AIC=2053.503, Time=0.04 sec\n",
      " ARIMA(0,1,0)(0,0,0)[0]             : AIC=2058.205, Time=0.01 sec\n",
      " ARIMA(2,1,0)(0,0,0)[0] intercept   : AIC=2054.598, Time=0.05 sec\n",
      " ARIMA(1,1,1)(0,0,0)[0] intercept   : AIC=2054.317, Time=0.07 sec\n",
      " ARIMA(2,1,1)(0,0,0)[0] intercept   : AIC=2056.310, Time=0.12 sec\n",
      " ARIMA(1,1,0)(0,0,0)[0]             : AIC=2053.256, Time=0.01 sec\n",
      "\n",
      "Best model:  ARIMA(1,1,0)(0,0,0)[0] intercept\n",
      "Total fit time: 0.362 seconds\n"
     ]
    },
    {
     "data": {
      "text/plain": [
       "ARIMA(order=(1, 1, 0), scoring_args={}, suppress_warnings=True)"
      ]
     },
     "execution_count": 333,
     "metadata": {},
     "output_type": "execute_result"
    }
   ],
   "source": [
    "auto_arima(train, start_p=0, start_q=0,\n",
    "test='adf',      \n",
    "max_p=2, max_q=2, \n",
    "trace=True,\n",
    ")"
   ]
  },
  {
   "cell_type": "markdown",
   "id": "7cb882b7",
   "metadata": {},
   "source": [
    "The optimal parameters are one autoregressive lag and first order differencing."
   ]
  },
  {
   "cell_type": "code",
   "execution_count": 360,
   "id": "214c7e8b",
   "metadata": {},
   "outputs": [
    {
     "name": "stderr",
     "output_type": "stream",
     "text": [
      "/usr/local/Cellar/jupyterlab/3.0.14/libexec/lib/python3.9/site-packages/statsmodels/tsa/arima_model.py:472: FutureWarning: \n",
      "statsmodels.tsa.arima_model.ARMA and statsmodels.tsa.arima_model.ARIMA have\n",
      "been deprecated in favor of statsmodels.tsa.arima.model.ARIMA (note the .\n",
      "between arima and model) and\n",
      "statsmodels.tsa.SARIMAX. These will be removed after the 0.12 release.\n",
      "\n",
      "statsmodels.tsa.arima.model.ARIMA makes use of the statespace framework and\n",
      "is both well tested and maintained.\n",
      "\n",
      "To silence this warning and continue using ARMA and ARIMA until they are\n",
      "removed, use:\n",
      "\n",
      "import warnings\n",
      "warnings.filterwarnings('ignore', 'statsmodels.tsa.arima_model.ARMA',\n",
      "                        FutureWarning)\n",
      "warnings.filterwarnings('ignore', 'statsmodels.tsa.arima_model.ARIMA',\n",
      "                        FutureWarning)\n",
      "\n",
      "  warnings.warn(ARIMA_DEPRECATION_WARN, FutureWarning)\n",
      "/usr/local/Cellar/jupyterlab/3.0.14/libexec/lib/python3.9/site-packages/statsmodels/tsa/base/tsa_model.py:581: ValueWarning: A date index has been provided, but it has no associated frequency information and so will be ignored when e.g. forecasting.\n",
      "  warnings.warn('A date index has been provided, but it has no'\n",
      "/usr/local/Cellar/jupyterlab/3.0.14/libexec/lib/python3.9/site-packages/statsmodels/tsa/base/tsa_model.py:581: ValueWarning: A date index has been provided, but it has no associated frequency information and so will be ignored when e.g. forecasting.\n",
      "  warnings.warn('A date index has been provided, but it has no'\n"
     ]
    },
    {
     "data": {
      "text/html": [
       "<table class=\"simpletable\">\n",
       "<caption>ARIMA Model Results</caption>\n",
       "<tr>\n",
       "  <th>Dep. Variable:</th>      <td>D.Close</td>     <th>  No. Observations:  </th>    <td>448</td>   \n",
       "</tr>\n",
       "<tr>\n",
       "  <th>Model:</th>          <td>ARIMA(1, 1, 0)</td>  <th>  Log Likelihood     </th> <td>-1023.517</td>\n",
       "</tr>\n",
       "<tr>\n",
       "  <th>Method:</th>             <td>css-mle</td>     <th>  S.D. of innovations</th>   <td>2.377</td>  \n",
       "</tr>\n",
       "<tr>\n",
       "  <th>Date:</th>          <td>Sat, 02 Apr 2022</td> <th>  AIC                </th> <td>2053.034</td> \n",
       "</tr>\n",
       "<tr>\n",
       "  <th>Time:</th>              <td>21:56:08</td>     <th>  BIC                </th> <td>2065.348</td> \n",
       "</tr>\n",
       "<tr>\n",
       "  <th>Sample:</th>                <td>1</td>        <th>  HQIC               </th> <td>2057.888</td> \n",
       "</tr>\n",
       "<tr>\n",
       "  <th></th>                       <td> </td>        <th>                     </th>     <td> </td>    \n",
       "</tr>\n",
       "</table>\n",
       "<table class=\"simpletable\">\n",
       "<tr>\n",
       "        <td></td>           <th>coef</th>     <th>std err</th>      <th>z</th>      <th>P>|z|</th>  <th>[0.025</th>    <th>0.975]</th>  \n",
       "</tr>\n",
       "<tr>\n",
       "  <th>const</th>         <td>    0.1489</td> <td>    0.100</td> <td>    1.496</td> <td> 0.135</td> <td>   -0.046</td> <td>    0.344</td>\n",
       "</tr>\n",
       "<tr>\n",
       "  <th>ar.L1.D.Close</th> <td>   -0.1284</td> <td>    0.047</td> <td>   -2.743</td> <td> 0.006</td> <td>   -0.220</td> <td>   -0.037</td>\n",
       "</tr>\n",
       "</table>\n",
       "<table class=\"simpletable\">\n",
       "<caption>Roots</caption>\n",
       "<tr>\n",
       "    <td></td>   <th>            Real</th>  <th>         Imaginary</th> <th>         Modulus</th>  <th>        Frequency</th>\n",
       "</tr>\n",
       "<tr>\n",
       "  <th>AR.1</th> <td>          -7.7861</td> <td>          +0.0000j</td> <td>           7.7861</td> <td>           0.5000</td>\n",
       "</tr>\n",
       "</table>"
      ],
      "text/plain": [
       "<class 'statsmodels.iolib.summary.Summary'>\n",
       "\"\"\"\n",
       "                             ARIMA Model Results                              \n",
       "==============================================================================\n",
       "Dep. Variable:                D.Close   No. Observations:                  448\n",
       "Model:                 ARIMA(1, 1, 0)   Log Likelihood               -1023.517\n",
       "Method:                       css-mle   S.D. of innovations              2.377\n",
       "Date:                Sat, 02 Apr 2022   AIC                           2053.034\n",
       "Time:                        21:56:08   BIC                           2065.348\n",
       "Sample:                             1   HQIC                          2057.888\n",
       "                                                                              \n",
       "=================================================================================\n",
       "                    coef    std err          z      P>|z|      [0.025      0.975]\n",
       "---------------------------------------------------------------------------------\n",
       "const             0.1489      0.100      1.496      0.135      -0.046       0.344\n",
       "ar.L1.D.Close    -0.1284      0.047     -2.743      0.006      -0.220      -0.037\n",
       "                                    Roots                                    \n",
       "=============================================================================\n",
       "                  Real          Imaginary           Modulus         Frequency\n",
       "-----------------------------------------------------------------------------\n",
       "AR.1           -7.7861           +0.0000j            7.7861            0.5000\n",
       "-----------------------------------------------------------------------------\n",
       "\"\"\""
      ]
     },
     "execution_count": 360,
     "metadata": {},
     "output_type": "execute_result"
    }
   ],
   "source": [
    "model = sm.tsa.ARIMA(train, order=(1, 1, 0)).fit()\n",
    "model.summary()"
   ]
  },
  {
   "cell_type": "markdown",
   "id": "a1c5687d",
   "metadata": {},
   "source": [
    "The lag is statisically significant."
   ]
  },
  {
   "cell_type": "markdown",
   "id": "350b3313",
   "metadata": {},
   "source": [
    "The model corectly predicts the trend of the test data, but still mostly predicts prices lower than the actual stock prices, therefore, this model would not be profitable.  "
   ]
  },
  {
   "cell_type": "code",
   "execution_count": 363,
   "id": "1eb46e7c",
   "metadata": {},
   "outputs": [
    {
     "data": {
      "image/png": "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\n",
      "text/plain": [
       "<Figure size 1200x500 with 1 Axes>"
      ]
     },
     "metadata": {
      "needs_background": "light"
     },
     "output_type": "display_data"
    }
   ],
   "source": [
    "fc, se, conf = fitted.forecast(113, alpha=0.05)  # 95% confidence\n",
    "fc_series = pd.Series(fc, index=test.index)\n",
    "lower_series = pd.Series(conf[:, 0], index=test.index)\n",
    "upper_series = pd.Series(conf[:, 1], index=test.index)\n",
    "plt.figure(figsize=(12,5), dpi=100)\n",
    "plt.plot(train, label='Training')\n",
    "plt.plot(test, color = 'blue', label='Actual Stock Price')\n",
    "plt.plot(fc_series, color = 'orange',label='Predicted Stock Price')\n",
    "plt.fill_between(lower_series.index, lower_series, upper_series, \n",
    "                 color='lightgrey')\n",
    "plt.title('AAPL Stock Price Prediction')\n",
    "plt.xlabel('Time')\n",
    "plt.ylabel('Actual Stock Price')\n",
    "plt.legend(loc='upper left', fontsize=8)\n",
    "plt.show()"
   ]
  },
  {
   "cell_type": "markdown",
   "id": "36126521",
   "metadata": {},
   "source": [
    "# Recurrent Neural Network"
   ]
  },
  {
   "cell_type": "code",
   "execution_count": 3,
   "id": "1c867541",
   "metadata": {},
   "outputs": [],
   "source": [
    "c=0\n",
    "l=[]\n",
    "x=[]\n",
    "y=[]\n",
    "for i in Df['Close'][:560]:\n",
    "    if c<9:\n",
    "        l.append(i)\n",
    "        c+=1\n",
    "    else:\n",
    "        x.append(l)\n",
    "        y.append(i)\n",
    "        c=0\n",
    "        l=[]"
   ]
  },
  {
   "cell_type": "code",
   "execution_count": 4,
   "id": "a0c0fbb5",
   "metadata": {},
   "outputs": [],
   "source": [
    "from tensorflow.keras.models import Sequential\n",
    "from tensorflow.keras.layers import Dense, Bidirectional, LSTM\n",
    "from sklearn.model_selection import train_test_split"
   ]
  },
  {
   "cell_type": "code",
   "execution_count": 5,
   "id": "4a3edd24",
   "metadata": {},
   "outputs": [],
   "source": [
    "X_train, X_val, y_train, y_val = train_test_split(x, y, test_size=0.2)"
   ]
  },
  {
   "cell_type": "code",
   "execution_count": 6,
   "id": "994bc77e",
   "metadata": {},
   "outputs": [],
   "source": [
    "X_train=np.array(X_train)\n",
    "X_val=np.array(X_val)\n",
    "y_train=np.array(y_train)\n",
    "y_val=np.array(y_val)"
   ]
  },
  {
   "cell_type": "code",
   "execution_count": 7,
   "id": "c7e2cdd8",
   "metadata": {},
   "outputs": [],
   "source": [
    "X_train=X_train.reshape((44, 9,1))\n",
    "X_val=X_val.reshape((12, 9,1))"
   ]
  },
  {
   "cell_type": "code",
   "execution_count": 12,
   "id": "968c115e",
   "metadata": {},
   "outputs": [
    {
     "name": "stdout",
     "output_type": "stream",
     "text": [
      "Epoch 1/100\n",
      "2/2 [==============================] - 14s 1s/step - loss: 15247.3594 - val_loss: 5191.7993\n",
      "Epoch 2/100\n",
      "2/2 [==============================] - 0s 61ms/step - loss: 8974.8975 - val_loss: 286.3389\n",
      "Epoch 3/100\n",
      "2/2 [==============================] - 0s 69ms/step - loss: 4093.2510 - val_loss: 11558.8701\n",
      "Epoch 4/100\n",
      "2/2 [==============================] - 0s 65ms/step - loss: 1205.3160 - val_loss: 35075.3945\n",
      "Epoch 5/100\n",
      "2/2 [==============================] - 0s 62ms/step - loss: 2532.7776 - val_loss: 18882.7695\n",
      "Epoch 6/100\n",
      "2/2 [==============================] - 0s 65ms/step - loss: 2027.6261 - val_loss: 6108.3398\n",
      "Epoch 7/100\n",
      "2/2 [==============================] - 0s 60ms/step - loss: 803.2853 - val_loss: 3832.6543\n",
      "Epoch 8/100\n",
      "2/2 [==============================] - 0s 63ms/step - loss: 913.0646 - val_loss: 4936.2729\n",
      "Epoch 9/100\n",
      "2/2 [==============================] - 0s 64ms/step - loss: 934.4050 - val_loss: 5137.2964\n",
      "Epoch 10/100\n",
      "2/2 [==============================] - 0s 58ms/step - loss: 1596.5646 - val_loss: 6695.4097\n",
      "Epoch 11/100\n",
      "2/2 [==============================] - 0s 58ms/step - loss: 1010.3541 - val_loss: 10506.0742\n",
      "Epoch 12/100\n",
      "2/2 [==============================] - 0s 58ms/step - loss: 915.7166 - val_loss: 10822.3447\n",
      "Epoch 13/100\n",
      "2/2 [==============================] - 0s 74ms/step - loss: 1068.6106 - val_loss: 8963.4023\n",
      "Epoch 14/100\n",
      "2/2 [==============================] - 0s 70ms/step - loss: 1272.1005 - val_loss: 6660.2944\n",
      "Epoch 15/100\n",
      "2/2 [==============================] - 0s 64ms/step - loss: 924.1418 - val_loss: 6589.1333\n",
      "Epoch 16/100\n",
      "2/2 [==============================] - 0s 66ms/step - loss: 678.2371 - val_loss: 1188.4960\n",
      "Epoch 17/100\n",
      "2/2 [==============================] - 0s 68ms/step - loss: 622.1658 - val_loss: 156.5226\n",
      "Epoch 18/100\n",
      "2/2 [==============================] - 0s 65ms/step - loss: 666.9846 - val_loss: 274.6355\n",
      "Epoch 19/100\n",
      "2/2 [==============================] - 0s 64ms/step - loss: 838.6853 - val_loss: 498.2635\n",
      "Epoch 20/100\n",
      "2/2 [==============================] - 0s 63ms/step - loss: 466.5011 - val_loss: 946.0574\n",
      "Epoch 21/100\n",
      "2/2 [==============================] - 0s 64ms/step - loss: 574.1327 - val_loss: 812.6292\n",
      "Epoch 22/100\n",
      "2/2 [==============================] - 0s 64ms/step - loss: 507.5119 - val_loss: 1047.7900\n",
      "Epoch 23/100\n",
      "2/2 [==============================] - 0s 62ms/step - loss: 549.8452 - val_loss: 1694.9259\n",
      "Epoch 24/100\n",
      "2/2 [==============================] - 0s 67ms/step - loss: 541.0435 - val_loss: 1935.2340\n",
      "Epoch 25/100\n",
      "2/2 [==============================] - 0s 64ms/step - loss: 556.0787 - val_loss: 1818.8223\n",
      "Epoch 26/100\n",
      "2/2 [==============================] - 0s 72ms/step - loss: 622.5401 - val_loss: 1440.1035\n",
      "Epoch 27/100\n",
      "2/2 [==============================] - 0s 70ms/step - loss: 501.3228 - val_loss: 1297.1613\n",
      "Epoch 28/100\n",
      "2/2 [==============================] - 0s 64ms/step - loss: 711.3748 - val_loss: 1369.0555\n",
      "Epoch 29/100\n",
      "2/2 [==============================] - 0s 61ms/step - loss: 454.2736 - val_loss: 1616.2877\n",
      "Epoch 30/100\n",
      "2/2 [==============================] - 0s 62ms/step - loss: 811.1996 - val_loss: 1485.6659\n",
      "Epoch 31/100\n",
      "2/2 [==============================] - 0s 61ms/step - loss: 709.3847 - val_loss: 1094.6776\n",
      "Epoch 32/100\n",
      "2/2 [==============================] - 0s 61ms/step - loss: 618.3152 - val_loss: 922.0051\n",
      "Epoch 33/100\n",
      "2/2 [==============================] - 0s 62ms/step - loss: 761.9228 - val_loss: 302.6556\n",
      "Epoch 34/100\n",
      "2/2 [==============================] - 0s 61ms/step - loss: 872.3876 - val_loss: 248.3916\n",
      "Epoch 35/100\n",
      "2/2 [==============================] - 0s 60ms/step - loss: 550.6956 - val_loss: 202.4941\n",
      "Epoch 36/100\n",
      "2/2 [==============================] - 0s 61ms/step - loss: 457.9845 - val_loss: 88.0586\n",
      "Epoch 37/100\n",
      "2/2 [==============================] - 0s 60ms/step - loss: 527.9324 - val_loss: 154.7122\n",
      "Epoch 38/100\n",
      "2/2 [==============================] - 0s 60ms/step - loss: 811.5880 - val_loss: 134.7643\n",
      "Epoch 39/100\n",
      "2/2 [==============================] - 0s 58ms/step - loss: 735.9927 - val_loss: 136.3673\n",
      "Epoch 40/100\n",
      "2/2 [==============================] - 0s 57ms/step - loss: 403.1143 - val_loss: 415.9813\n",
      "Epoch 41/100\n",
      "2/2 [==============================] - 0s 60ms/step - loss: 617.2568 - val_loss: 1223.7792\n",
      "Epoch 42/100\n",
      "2/2 [==============================] - 0s 61ms/step - loss: 460.2811 - val_loss: 1628.4554\n",
      "Epoch 43/100\n",
      "2/2 [==============================] - 0s 66ms/step - loss: 444.4995 - val_loss: 1127.1486\n",
      "Epoch 44/100\n",
      "2/2 [==============================] - 0s 64ms/step - loss: 367.2571 - val_loss: 677.1169\n",
      "Epoch 45/100\n",
      "2/2 [==============================] - 0s 74ms/step - loss: 537.2674 - val_loss: 458.6033\n",
      "Epoch 46/100\n",
      "2/2 [==============================] - 0s 60ms/step - loss: 634.7601 - val_loss: 479.9882\n",
      "Epoch 47/100\n",
      "2/2 [==============================] - 0s 61ms/step - loss: 422.8842 - val_loss: 517.7390\n",
      "Epoch 48/100\n",
      "2/2 [==============================] - 0s 63ms/step - loss: 494.2468 - val_loss: 766.2420\n",
      "Epoch 49/100\n",
      "2/2 [==============================] - 0s 67ms/step - loss: 511.1364 - val_loss: 689.2739\n",
      "Epoch 50/100\n",
      "2/2 [==============================] - 0s 62ms/step - loss: 494.6968 - val_loss: 107.2961\n",
      "Epoch 51/100\n",
      "2/2 [==============================] - 0s 69ms/step - loss: 502.0726 - val_loss: 134.3590\n",
      "Epoch 52/100\n",
      "2/2 [==============================] - 0s 64ms/step - loss: 507.7616 - val_loss: 246.6271\n",
      "Epoch 53/100\n",
      "2/2 [==============================] - 0s 65ms/step - loss: 459.5516 - val_loss: 144.4310\n",
      "Epoch 54/100\n",
      "2/2 [==============================] - 0s 61ms/step - loss: 605.1714 - val_loss: 15.7464\n",
      "Epoch 55/100\n",
      "2/2 [==============================] - 0s 59ms/step - loss: 696.8458 - val_loss: 33.9394\n",
      "Epoch 56/100\n",
      "2/2 [==============================] - 0s 62ms/step - loss: 836.8080 - val_loss: 1009.7175\n",
      "Epoch 57/100\n",
      "2/2 [==============================] - 0s 60ms/step - loss: 915.0930 - val_loss: 1729.4282\n",
      "Epoch 58/100\n",
      "2/2 [==============================] - 0s 61ms/step - loss: 635.0433 - val_loss: 412.1901\n",
      "Epoch 59/100\n",
      "2/2 [==============================] - 0s 61ms/step - loss: 786.3723 - val_loss: 47.7619\n",
      "Epoch 60/100\n",
      "2/2 [==============================] - 0s 60ms/step - loss: 446.3809 - val_loss: 198.7399\n",
      "Epoch 61/100\n",
      "2/2 [==============================] - 0s 58ms/step - loss: 525.0495 - val_loss: 425.4871\n",
      "Epoch 62/100\n",
      "2/2 [==============================] - 0s 64ms/step - loss: 494.2525 - val_loss: 879.7160\n",
      "Epoch 63/100\n",
      "2/2 [==============================] - 0s 65ms/step - loss: 536.0891 - val_loss: 1245.4634\n",
      "Epoch 64/100\n",
      "2/2 [==============================] - 0s 61ms/step - loss: 412.9615 - val_loss: 2042.1136\n",
      "Epoch 65/100\n",
      "2/2 [==============================] - 0s 62ms/step - loss: 662.3897 - val_loss: 1958.0259\n",
      "Epoch 66/100\n",
      "2/2 [==============================] - 0s 60ms/step - loss: 726.6236 - val_loss: 1064.8883\n",
      "Epoch 67/100\n",
      "2/2 [==============================] - 0s 61ms/step - loss: 350.5050 - val_loss: 753.2610\n",
      "Epoch 68/100\n",
      "2/2 [==============================] - 0s 60ms/step - loss: 438.4054 - val_loss: 553.3859\n",
      "Epoch 69/100\n",
      "2/2 [==============================] - 0s 61ms/step - loss: 374.1392 - val_loss: 585.3167\n",
      "Epoch 70/100\n",
      "2/2 [==============================] - 0s 62ms/step - loss: 334.2534 - val_loss: 564.9671\n",
      "Epoch 71/100\n",
      "2/2 [==============================] - 0s 61ms/step - loss: 219.9357 - val_loss: 511.7049\n",
      "Epoch 72/100\n",
      "2/2 [==============================] - 0s 60ms/step - loss: 297.3802 - val_loss: 401.0289\n",
      "Epoch 73/100\n",
      "2/2 [==============================] - 0s 61ms/step - loss: 498.2878 - val_loss: 197.0672\n",
      "Epoch 74/100\n",
      "2/2 [==============================] - 0s 61ms/step - loss: 416.7469 - val_loss: 99.8474\n",
      "Epoch 75/100\n",
      "2/2 [==============================] - 0s 60ms/step - loss: 633.4286 - val_loss: 39.2918\n",
      "Epoch 76/100\n",
      "2/2 [==============================] - 0s 57ms/step - loss: 354.6346 - val_loss: 27.3160\n",
      "Epoch 77/100\n",
      "2/2 [==============================] - 0s 58ms/step - loss: 534.2881 - val_loss: 18.2074\n",
      "Epoch 78/100\n",
      "2/2 [==============================] - 0s 68ms/step - loss: 442.2956 - val_loss: 32.9029\n",
      "Epoch 79/100\n",
      "2/2 [==============================] - 0s 63ms/step - loss: 333.1913 - val_loss: 137.3512\n",
      "Epoch 80/100\n",
      "2/2 [==============================] - 0s 60ms/step - loss: 316.4477 - val_loss: 308.7787\n",
      "Epoch 81/100\n",
      "2/2 [==============================] - 0s 59ms/step - loss: 447.1080 - val_loss: 357.3409\n",
      "Epoch 82/100\n",
      "2/2 [==============================] - 0s 58ms/step - loss: 544.6835 - val_loss: 261.1181\n",
      "Epoch 83/100\n",
      "2/2 [==============================] - 0s 76ms/step - loss: 258.0122 - val_loss: 199.5635\n",
      "Epoch 84/100\n",
      "2/2 [==============================] - 0s 61ms/step - loss: 363.4265 - val_loss: 104.3677\n",
      "Epoch 85/100\n",
      "2/2 [==============================] - 0s 59ms/step - loss: 267.7101 - val_loss: 49.7920\n",
      "Epoch 86/100\n",
      "2/2 [==============================] - 0s 59ms/step - loss: 482.2536 - val_loss: 60.6471\n",
      "Epoch 87/100\n",
      "2/2 [==============================] - 0s 62ms/step - loss: 185.3862 - val_loss: 65.9130\n",
      "Epoch 88/100\n",
      "2/2 [==============================] - 0s 59ms/step - loss: 353.9943 - val_loss: 18.3403\n",
      "Epoch 89/100\n",
      "2/2 [==============================] - 0s 61ms/step - loss: 442.7278 - val_loss: 38.3328\n",
      "Epoch 90/100\n",
      "2/2 [==============================] - 0s 62ms/step - loss: 245.1345 - val_loss: 163.9680\n",
      "Epoch 91/100\n",
      "2/2 [==============================] - 0s 60ms/step - loss: 447.3051 - val_loss: 343.5572\n",
      "Epoch 92/100\n",
      "2/2 [==============================] - 0s 60ms/step - loss: 292.6245 - val_loss: 365.9442\n",
      "Epoch 93/100\n",
      "2/2 [==============================] - 0s 57ms/step - loss: 513.4840 - val_loss: 102.8025\n",
      "Epoch 94/100\n",
      "2/2 [==============================] - 0s 57ms/step - loss: 661.7816 - val_loss: 24.6321\n",
      "Epoch 95/100\n",
      "2/2 [==============================] - 0s 64ms/step - loss: 618.9309 - val_loss: 23.7163\n",
      "Epoch 96/100\n",
      "2/2 [==============================] - 0s 61ms/step - loss: 608.6721 - val_loss: 169.3272\n",
      "Epoch 97/100\n",
      "2/2 [==============================] - 0s 62ms/step - loss: 310.2865 - val_loss: 428.3148\n",
      "Epoch 98/100\n",
      "2/2 [==============================] - 0s 60ms/step - loss: 569.6130 - val_loss: 734.3382\n",
      "Epoch 99/100\n",
      "2/2 [==============================] - 0s 61ms/step - loss: 570.3698 - val_loss: 430.4976\n",
      "Epoch 100/100\n",
      "2/2 [==============================] - 0s 74ms/step - loss: 535.4067 - val_loss: 157.0450\n"
     ]
    }
   ],
   "source": [
    "model = Sequential()\n",
    "model.add(Bidirectional(LSTM(60, activation='leaky_relu', dropout=0.2, return_sequences=True,recurrent_dropout=0.2,input_shape=(4,1))))\n",
    "model.add(Bidirectional(LSTM(120,activation='leaky_relu', dropout=0.2, recurrent_dropout=0.2,return_sequences=True)))\n",
    "model.add(Bidirectional(LSTM(60,activation='leaky_relu', dropout=0.2, recurrent_dropout=0.2)))\n",
    "model.add(Dense(1, activation='linear'))\n",
    "\n",
    "\n",
    "model.compile(loss='mean_squared_error',\n",
    "              optimizer='adam')\n",
    "\n",
    "history=model.fit(X_train,y_train,validation_data=(X_val,y_val),epochs=100,batch_size=32)"
   ]
  },
  {
   "cell_type": "code",
   "execution_count": 15,
   "id": "e9728ada",
   "metadata": {},
   "outputs": [
    {
     "data": {
      "image/png": "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\n",
      "text/plain": [
       "<Figure size 640x480 with 1 Axes>"
      ]
     },
     "metadata": {},
     "output_type": "display_data"
    }
   ],
   "source": [
    "plt.plot(history.history['loss'])\n",
    "plt.plot(history.history['val_loss'])\n",
    "plt.title('Model Loss')\n",
    "plt.ylabel('loss')\n",
    "plt.xlabel('epoch')\n",
    "plt.legend(['train', 'val'], loc='upper left')\n",
    "plt.show()"
   ]
  },
  {
   "cell_type": "code",
   "execution_count": 129,
   "id": "8c55baae",
   "metadata": {},
   "outputs": [
    {
     "name": "stdout",
     "output_type": "stream",
     "text": [
      "1/1 [==============================] - 1s 1s/step\n"
     ]
    },
    {
     "data": {
      "text/plain": [
       "array([[264.78952]], dtype=float32)"
      ]
     },
     "execution_count": 129,
     "metadata": {},
     "output_type": "execute_result"
    }
   ],
   "source": [
    "model.predict(np.array([[289.91,296.45,297.1,296.07,288.09,284.82,277.7,275.61,277.16]]))"
   ]
  },
  {
   "cell_type": "markdown",
   "id": "4352ff0d",
   "metadata": {},
   "source": [
    "The correct stock price is 270.21, the RNN is about $6 off."
   ]
  },
  {
   "cell_type": "markdown",
   "id": "99980cc6",
   "metadata": {},
   "source": [
    "My future work will be building models with greater accuracy.  "
   ]
  },
  {
   "cell_type": "code",
   "execution_count": null,
   "id": "ca880cd1",
   "metadata": {},
   "outputs": [],
   "source": []
  }
 ],
 "metadata": {
  "kernelspec": {
   "display_name": "Python 3 (ipykernel)",
   "language": "python",
   "name": "python3"
  },
  "language_info": {
   "codemirror_mode": {
    "name": "ipython",
    "version": 3
   },
   "file_extension": ".py",
   "mimetype": "text/x-python",
   "name": "python",
   "nbconvert_exporter": "python",
   "pygments_lexer": "ipython3",
   "version": "3.8.2"
  }
 },
 "nbformat": 4,
 "nbformat_minor": 5
}
